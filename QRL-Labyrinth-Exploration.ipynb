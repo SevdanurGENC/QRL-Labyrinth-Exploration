{
 "cells": [
  {
   "cell_type": "code",
   "execution_count": 7,
   "id": "46b3d714",
   "metadata": {},
   "outputs": [],
   "source": [
    "from qiskit import QuantumCircuit, Aer, execute\n",
    "import numpy as np"
   ]
  },
  {
   "cell_type": "code",
   "execution_count": 8,
   "id": "ddd3cbdf",
   "metadata": {},
   "outputs": [],
   "source": [
    "# Labyrinth map (0: empty space, 1: wall, H: target)\n",
    "maze = [\n",
    "    [0, 0, 0, 'H'],\n",
    "    [0, 1, 0, 1],\n",
    "    [0, 1, 0, 0],\n",
    "    ['S', 0, 0, 0]\n",
    "]\n",
    "\n",
    "# Labyrinth dimensions\n",
    "num_rows = len(maze)\n",
    "num_cols = len(maze[0])\n",
    "\n",
    "# Start location\n",
    "start_row = 3\n",
    "start_col = 0\n",
    "\n",
    "# Target location\n",
    "target_row = 0\n",
    "target_col = 3"
   ]
  },
  {
   "cell_type": "code",
   "execution_count": 9,
   "id": "37f40f31",
   "metadata": {},
   "outputs": [],
   "source": [
    "# Quantum circuit creation\n",
    "def create_quantum_circuit():\n",
    "    qc = QuantumCircuit(1, 1)\n",
    "    return qc"
   ]
  },
  {
   "cell_type": "code",
   "execution_count": 10,
   "id": "8198b7ff",
   "metadata": {},
   "outputs": [],
   "source": [
    "# Movement function\n",
    "def move(qc, action, current_row, current_col):\n",
    "    if action == 'North':\n",
    "        if current_row > 0 and maze[current_row - 1][current_col] != 1:\n",
    "            current_row -= 1\n",
    "    elif action == 'South':\n",
    "        if current_row < num_rows - 1 and maze[current_row + 1][current_col] != 1:\n",
    "            current_row += 1\n",
    "    elif action == 'West':\n",
    "        if current_col > 0 and maze[current_row][current_col - 1] != 1:\n",
    "            current_col -= 1\n",
    "    elif action == 'East':\n",
    "        if current_col < num_cols - 1 and maze[current_row][current_col + 1] != 1:\n",
    "            current_col += 1\n",
    "\n",
    "    return current_row, current_col  # Rotate changes"
   ]
  },
  {
   "cell_type": "code",
   "execution_count": 11,
   "id": "fe7c304c",
   "metadata": {},
   "outputs": [],
   "source": [
    "# Start the game\n",
    "def play_game():\n",
    "    current_row = start_row\n",
    "    current_col = start_col\n",
    "    steps = 0\n",
    "\n",
    "    while (current_row, current_col) != (target_row, target_col):\n",
    "        qc = create_quantum_circuit()\n",
    "\n",
    "        # Choose a random movement\n",
    "        import random\n",
    "        actions = ['North', 'South', 'West', 'East']\n",
    "        action = random.choice(actions)\n",
    "\n",
    "        # Move\n",
    "        current_row, current_col = move(qc, action, current_row, current_col)\n",
    "        steps += 1\n",
    "\n",
    "        print(\"Step:\", steps, \"| Action:\", action, \"| Current Position:\", (current_row, current_col))\n",
    "\n",
    "    print(\"Congratulations! You reached the target in\", steps, \"steps.\")"
   ]
  },
  {
   "cell_type": "code",
   "execution_count": 14,
   "id": "667e964c",
   "metadata": {},
   "outputs": [
    {
     "name": "stdout",
     "output_type": "stream",
     "text": [
      "Step: 1 | Action: South | Current Position: (3, 0)\n",
      "Step: 2 | Action: South | Current Position: (3, 0)\n",
      "Step: 3 | Action: West | Current Position: (3, 0)\n",
      "Step: 4 | Action: West | Current Position: (3, 0)\n",
      "Step: 5 | Action: South | Current Position: (3, 0)\n",
      "Step: 6 | Action: East | Current Position: (3, 1)\n",
      "Step: 7 | Action: West | Current Position: (3, 0)\n",
      "Step: 8 | Action: East | Current Position: (3, 1)\n",
      "Step: 9 | Action: West | Current Position: (3, 0)\n",
      "Step: 10 | Action: North | Current Position: (2, 0)\n",
      "Step: 11 | Action: South | Current Position: (3, 0)\n",
      "Step: 12 | Action: West | Current Position: (3, 0)\n",
      "Step: 13 | Action: East | Current Position: (3, 1)\n",
      "Step: 14 | Action: East | Current Position: (3, 2)\n",
      "Step: 15 | Action: West | Current Position: (3, 1)\n",
      "Step: 16 | Action: West | Current Position: (3, 0)\n",
      "Step: 17 | Action: West | Current Position: (3, 0)\n",
      "Step: 18 | Action: North | Current Position: (2, 0)\n",
      "Step: 19 | Action: South | Current Position: (3, 0)\n",
      "Step: 20 | Action: North | Current Position: (2, 0)\n",
      "Step: 21 | Action: East | Current Position: (2, 0)\n",
      "Step: 22 | Action: West | Current Position: (2, 0)\n",
      "Step: 23 | Action: South | Current Position: (3, 0)\n",
      "Step: 24 | Action: South | Current Position: (3, 0)\n",
      "Step: 25 | Action: West | Current Position: (3, 0)\n",
      "Step: 26 | Action: North | Current Position: (2, 0)\n",
      "Step: 27 | Action: East | Current Position: (2, 0)\n",
      "Step: 28 | Action: South | Current Position: (3, 0)\n",
      "Step: 29 | Action: North | Current Position: (2, 0)\n",
      "Step: 30 | Action: North | Current Position: (1, 0)\n",
      "Step: 31 | Action: East | Current Position: (1, 0)\n",
      "Step: 32 | Action: East | Current Position: (1, 0)\n",
      "Step: 33 | Action: North | Current Position: (0, 0)\n",
      "Step: 34 | Action: South | Current Position: (1, 0)\n",
      "Step: 35 | Action: West | Current Position: (1, 0)\n",
      "Step: 36 | Action: North | Current Position: (0, 0)\n",
      "Step: 37 | Action: East | Current Position: (0, 1)\n",
      "Step: 38 | Action: North | Current Position: (0, 1)\n",
      "Step: 39 | Action: South | Current Position: (0, 1)\n",
      "Step: 40 | Action: South | Current Position: (0, 1)\n",
      "Step: 41 | Action: East | Current Position: (0, 2)\n",
      "Step: 42 | Action: East | Current Position: (0, 3)\n",
      "Congratulations! You reached the target in 42 steps.\n"
     ]
    }
   ],
   "source": [
    "# Start the game\n",
    "play_game()"
   ]
  },
  {
   "cell_type": "code",
   "execution_count": null,
   "id": "5089d00d",
   "metadata": {},
   "outputs": [],
   "source": []
  }
 ],
 "metadata": {
  "kernelspec": {
   "display_name": "Python 3 (ipykernel)",
   "language": "python",
   "name": "python3"
  },
  "language_info": {
   "codemirror_mode": {
    "name": "ipython",
    "version": 3
   },
   "file_extension": ".py",
   "mimetype": "text/x-python",
   "name": "python",
   "nbconvert_exporter": "python",
   "pygments_lexer": "ipython3",
   "version": "3.10.9"
  }
 },
 "nbformat": 4,
 "nbformat_minor": 5
}
